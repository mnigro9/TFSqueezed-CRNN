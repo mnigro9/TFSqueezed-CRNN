{
  "nbformat": 4,
  "nbformat_minor": 0,
  "metadata": {
    "colab": {
      "name": "GetDCASEfiles.ipynb",
      "provenance": []
    },
    "kernelspec": {
      "name": "python3",
      "display_name": "Python 3"
    }
  },
  "cells": [
    {
      "cell_type": "code",
      "metadata": {
        "id": "DKnoSwvBLN6a",
        "colab_type": "code",
        "colab": {}
      },
      "source": [
        "from google.colab import drive\n",
        "drive.mount('/content/drive')\n",
        "# 4/rAEHGQgoce2aWDujn2eJslIt5p3CS-JFBA8F5K7wjLedcFWj9xXR02E"
      ],
      "execution_count": 0,
      "outputs": []
    },
    {
      "cell_type": "code",
      "metadata": {
        "id": "wjLek1wMIoAY",
        "colab_type": "code",
        "outputId": "06f8a474-c39a-4dc3-e1aa-246c95aee52b",
        "colab": {
          "base_uri": "https://localhost:8080/",
          "height": 224
        }
      },
      "source": [
        "import os\n",
        "os.chdir('/content/drive/My Drive/DCASE19 ASC')  #change directory to Drive folder to save\n",
        "\n",
        "!wget https://zenodo.org/record/2589280/files/TAU-urban-acoustic-scenes-2019-development.audio.1.zip?download=1 "
      ],
      "execution_count": 0,
      "outputs": [
        {
          "output_type": "stream",
          "text": [
            "--2019-09-18 16:28:30--  https://zenodo.org/record/2589280/files/TAU-urban-acoustic-scenes-2019-development.audio.1.zip?download=1\n",
            "Resolving zenodo.org (zenodo.org)... 188.184.65.20\n",
            "Connecting to zenodo.org (zenodo.org)|188.184.65.20|:443... connected.\n",
            "HTTP request sent, awaiting response... 200 OK\n",
            "Length: 1657550587 (1.5G) [application/octet-stream]\n",
            "Saving to: ‘TAU-urban-acoustic-scenes-2019-development.audio.1.zip?download=1’\n",
            "\n",
            "TAU-urban-acoustic- 100%[===================>]   1.54G  13.2MB/s    in 99s     \n",
            "\n",
            "2019-09-18 16:30:10 (16.0 MB/s) - ‘TAU-urban-acoustic-scenes-2019-development.audio.1.zip?download=1’ saved [1657550587/1657550587]\n",
            "\n"
          ],
          "name": "stdout"
        }
      ]
    },
    {
      "cell_type": "code",
      "metadata": {
        "id": "FKZtunh4JgvS",
        "colab_type": "code",
        "colab": {}
      },
      "source": [
        "\n",
        "!unzip -q TAU-urban-acoustic-scenes-2019-development.audio.1.zip?download=1 "
      ],
      "execution_count": 0,
      "outputs": []
    },
    {
      "cell_type": "code",
      "metadata": {
        "id": "0qQg0AM9La3f",
        "colab_type": "code",
        "outputId": "930ea5d6-d921-470c-9c25-f429f6ea452d",
        "colab": {
          "base_uri": "https://localhost:8080/",
          "height": 224
        }
      },
      "source": [
        "!wget https://zenodo.org/record/2589280/files/TAU-urban-acoustic-scenes-2019-development.audio.10.zip?download=1\n",
        "!unzip -q TAU-urban-acoustic-scenes-2019-development.audio.10.zip?download=1"
      ],
      "execution_count": 0,
      "outputs": [
        {
          "output_type": "stream",
          "text": [
            "--2019-09-18 16:35:01--  https://zenodo.org/record/2589280/files/TAU-urban-acoustic-scenes-2019-development.audio.10.zip?download=1\n",
            "Resolving zenodo.org (zenodo.org)... 188.184.65.20\n",
            "Connecting to zenodo.org (zenodo.org)|188.184.65.20|:443... connected.\n",
            "HTTP request sent, awaiting response... 200 OK\n",
            "Length: 1632636175 (1.5G) [application/octet-stream]\n",
            "Saving to: ‘TAU-urban-acoustic-scenes-2019-development.audio.10.zip?download=1’\n",
            "\n",
            "TAU-urban-acoustic- 100%[===================>]   1.52G  16.2MB/s    in 1m 44s  \n",
            "\n",
            "2019-09-18 16:36:46 (15.0 MB/s) - ‘TAU-urban-acoustic-scenes-2019-development.audio.10.zip?download=1’ saved [1632636175/1632636175]\n",
            "\n"
          ],
          "name": "stdout"
        }
      ]
    },
    {
      "cell_type": "code",
      "metadata": {
        "id": "7B9Ics3VOjOa",
        "colab_type": "code",
        "outputId": "b11a931f-fd30-4a40-ca1b-da6676e2d4fa",
        "colab": {
          "base_uri": "https://localhost:8080/",
          "height": 598
        }
      },
      "source": [
        "!wget https://zenodo.org/record/2589280/files/TAU-urban-acoustic-scenes-2019-development.audio.11.zip?download=1\n",
        "!unzip -q TAU-urban-acoustic-scenes-2019-development.audio.11.zip?download=1\n",
        "!wget https://zenodo.org/record/2589280/files/TAU-urban-acoustic-scenes-2019-development.audio.12.zip?download=1\n",
        "!unzip -q TAU-urban-acoustic-scenes-2019-development.audio.12.zip?download=1\n",
        "!wget https://zenodo.org/record/2589280/files/TAU-urban-acoustic-scenes-2019-development.audio.13.zip?download=1\n",
        "!unzip -q TAU-urban-acoustic-scenes-2019-development.audio.13.zip?download=1"
      ],
      "execution_count": 0,
      "outputs": [
        {
          "output_type": "stream",
          "text": [
            "--2019-09-18 16:44:47--  https://zenodo.org/record/2589280/files/TAU-urban-acoustic-scenes-2019-development.audio.11.zip?download=1\n",
            "Resolving zenodo.org (zenodo.org)... 188.184.65.20\n",
            "Connecting to zenodo.org (zenodo.org)|188.184.65.20|:443... connected.\n",
            "HTTP request sent, awaiting response... 200 OK\n",
            "Length: 1671793546 (1.6G) [application/octet-stream]\n",
            "Saving to: ‘TAU-urban-acoustic-scenes-2019-development.audio.11.zip?download=1’\n",
            "\n",
            "TAU-urban-acoustic- 100%[===================>]   1.56G  15.2MB/s    in 1m 54s  \n",
            "\n",
            "2019-09-18 16:46:42 (13.9 MB/s) - ‘TAU-urban-acoustic-scenes-2019-development.audio.11.zip?download=1’ saved [1671793546/1671793546]\n",
            "\n",
            "--2019-09-18 16:47:39--  https://zenodo.org/record/2589280/files/TAU-urban-acoustic-scenes-2019-development.audio.12.zip?download=1\n",
            "Resolving zenodo.org (zenodo.org)... 188.184.65.20\n",
            "Connecting to zenodo.org (zenodo.org)|188.184.65.20|:443... connected.\n",
            "HTTP request sent, awaiting response... 200 OK\n",
            "Length: 1672592150 (1.6G) [application/octet-stream]\n",
            "Saving to: ‘TAU-urban-acoustic-scenes-2019-development.audio.12.zip?download=1’\n",
            "\n",
            "TAU-urban-acoustic- 100%[===================>]   1.56G  16.5MB/s    in 1m 47s  \n",
            "\n",
            "2019-09-18 16:49:28 (14.9 MB/s) - ‘TAU-urban-acoustic-scenes-2019-development.audio.12.zip?download=1’ saved [1672592150/1672592150]\n",
            "\n",
            "--2019-09-18 16:50:25--  https://zenodo.org/record/2589280/files/TAU-urban-acoustic-scenes-2019-development.audio.13.zip?download=1\n",
            "Resolving zenodo.org (zenodo.org)... 188.184.65.20\n",
            "Connecting to zenodo.org (zenodo.org)|188.184.65.20|:443... connected.\n",
            "HTTP request sent, awaiting response... 200 OK\n",
            "Length: 1673481614 (1.6G) [application/octet-stream]\n",
            "Saving to: ‘TAU-urban-acoustic-scenes-2019-development.audio.13.zip?download=1’\n",
            "\n",
            "TAU-urban-acoustic- 100%[===================>]   1.56G  14.0MB/s    in 1m 44s  \n",
            "\n",
            "2019-09-18 16:52:10 (15.3 MB/s) - ‘TAU-urban-acoustic-scenes-2019-development.audio.13.zip?download=1’ saved [1673481614/1673481614]\n",
            "\n"
          ],
          "name": "stdout"
        }
      ]
    },
    {
      "cell_type": "code",
      "metadata": {
        "id": "nWPN2xqWQ1K7",
        "colab_type": "code",
        "outputId": "b485b3b8-150b-45b4-eec0-40eaf16cd7e3",
        "colab": {
          "base_uri": "https://localhost:8080/",
          "height": 785
        }
      },
      "source": [
        "!wget https://zenodo.org/record/2589280/files/TAU-urban-acoustic-scenes-2019-development.audio.14.zip?download=1\n",
        "!unzip -q TAU-urban-acoustic-scenes-2019-development.audio.14.zip?download=1\n",
        "\n",
        "!wget https://zenodo.org/record/2589280/files/TAU-urban-acoustic-scenes-2019-development.audio.15.zip?download=1\n",
        "!unzip -q TAU-urban-acoustic-scenes-2019-development.audio.15.zip?download=1\n",
        "\n",
        "!wget https://zenodo.org/record/2589280/files/TAU-urban-acoustic-scenes-2019-development.audio.16.zip?download=1\n",
        "!unzip -q TAU-urban-acoustic-scenes-2019-development.audio.16.zip?download=1\n",
        "\n",
        "!wget https://zenodo.org/record/2589280/files/TAU-urban-acoustic-scenes-2019-development.audio.17.zip?download=1\n",
        "!unzip -q TAU-urban-acoustic-scenes-2019-development.audio.17.zip?download=1"
      ],
      "execution_count": 0,
      "outputs": [
        {
          "output_type": "stream",
          "text": [
            "--2019-09-18 16:53:23--  https://zenodo.org/record/2589280/files/TAU-urban-acoustic-scenes-2019-development.audio.14.zip?download=1\n",
            "Resolving zenodo.org (zenodo.org)... 188.184.65.20\n",
            "Connecting to zenodo.org (zenodo.org)|188.184.65.20|:443... connected.\n",
            "HTTP request sent, awaiting response... 200 OK\n",
            "Length: 1666137450 (1.6G) [application/octet-stream]\n",
            "Saving to: ‘TAU-urban-acoustic-scenes-2019-development.audio.14.zip?download=1’\n",
            "\n",
            "TAU-urban-acoustic- 100%[===================>]   1.55G  14.4MB/s    in 1m 51s  \n",
            "\n",
            "2019-09-18 16:55:15 (14.3 MB/s) - ‘TAU-urban-acoustic-scenes-2019-development.audio.14.zip?download=1’ saved [1666137450/1666137450]\n",
            "\n",
            "--2019-09-18 16:56:16--  https://zenodo.org/record/2589280/files/TAU-urban-acoustic-scenes-2019-development.audio.15.zip?download=1\n",
            "Resolving zenodo.org (zenodo.org)... 188.184.65.20\n",
            "Connecting to zenodo.org (zenodo.org)|188.184.65.20|:443... connected.\n",
            "HTTP request sent, awaiting response... 200 OK\n",
            "Length: 1675127004 (1.6G) [application/octet-stream]\n",
            "Saving to: ‘TAU-urban-acoustic-scenes-2019-development.audio.15.zip?download=1’\n",
            "\n",
            "TAU-urban-acoustic- 100%[===================>]   1.56G  14.1MB/s    in 1m 50s  \n",
            "\n",
            "2019-09-18 16:58:08 (14.5 MB/s) - ‘TAU-urban-acoustic-scenes-2019-development.audio.15.zip?download=1’ saved [1675127004/1675127004]\n",
            "\n",
            "--2019-09-18 16:59:06--  https://zenodo.org/record/2589280/files/TAU-urban-acoustic-scenes-2019-development.audio.16.zip?download=1\n",
            "Resolving zenodo.org (zenodo.org)... 188.184.65.20\n",
            "Connecting to zenodo.org (zenodo.org)|188.184.65.20|:443... connected.\n",
            "HTTP request sent, awaiting response... 200 OK\n",
            "Length: 1648240966 (1.5G) [application/octet-stream]\n",
            "Saving to: ‘TAU-urban-acoustic-scenes-2019-development.audio.16.zip?download=1’\n",
            "\n",
            "TAU-urban-acoustic- 100%[===================>]   1.53G  14.4MB/s    in 1m 47s  \n",
            "\n",
            "2019-09-18 17:00:54 (14.7 MB/s) - ‘TAU-urban-acoustic-scenes-2019-development.audio.16.zip?download=1’ saved [1648240966/1648240966]\n",
            "\n",
            "--2019-09-18 17:01:51--  https://zenodo.org/record/2589280/files/TAU-urban-acoustic-scenes-2019-development.audio.17.zip?download=1\n",
            "Resolving zenodo.org (zenodo.org)... 188.184.65.20\n",
            "Connecting to zenodo.org (zenodo.org)|188.184.65.20|:443... connected.\n",
            "HTTP request sent, awaiting response... 200 OK\n",
            "Length: 1698414214 (1.6G) [application/octet-stream]\n",
            "Saving to: ‘TAU-urban-acoustic-scenes-2019-development.audio.17.zip?download=1’\n",
            "\n",
            "TAU-urban-acoustic- 100%[===================>]   1.58G  11.8MB/s    in 2m 11s  \n",
            "\n",
            "2019-09-18 17:04:03 (12.4 MB/s) - ‘TAU-urban-acoustic-scenes-2019-development.audio.17.zip?download=1’ saved [1698414214/1698414214]\n",
            "\n"
          ],
          "name": "stdout"
        }
      ]
    },
    {
      "cell_type": "code",
      "metadata": {
        "id": "t7AM4g_-RBRg",
        "colab_type": "code",
        "outputId": "3d7619e6-be58-45fe-af24-c5fb4591ae0e",
        "colab": {
          "base_uri": "https://localhost:8080/",
          "height": 972
        }
      },
      "source": [
        "!wget https://zenodo.org/record/2589280/files/TAU-urban-acoustic-scenes-2019-development.audio.18.zip?download=1\n",
        "!unzip -q TAU-urban-acoustic-scenes-2019-development.audio.18.zip?download=1\n",
        "\n",
        "!wget https://zenodo.org/record/2589280/files/TAU-urban-acoustic-scenes-2019-development.audio.19.zip?download=1\n",
        "!unzip -q TAU-urban-acoustic-scenes-2019-development.audio.19.zip?download=1\n",
        "\n",
        "!wget https://zenodo.org/record/2589280/files/TAU-urban-acoustic-scenes-2019-development.audio.2.zip?download=1\n",
        "!unzip -q TAU-urban-acoustic-scenes-2019-development.audio.2.zip?download=1\n",
        "\n",
        "!wget https://zenodo.org/record/2589280/files/TAU-urban-acoustic-scenes-2019-development.audio.20.zip?download=1\n",
        "!unzip -q TAU-urban-acoustic-scenes-2019-development.audio.20.zip?download=1\n",
        "\n",
        "!wget https://zenodo.org/record/2589280/files/TAU-urban-acoustic-scenes-2019-development.audio.21.zip?download=1\n",
        "!unzip -q TAU-urban-acoustic-scenes-2019-development.audio.21.zip?download=1"
      ],
      "execution_count": 0,
      "outputs": [
        {
          "output_type": "stream",
          "text": [
            "--2019-09-18 17:05:19--  https://zenodo.org/record/2589280/files/TAU-urban-acoustic-scenes-2019-development.audio.18.zip?download=1\n",
            "Resolving zenodo.org (zenodo.org)... 188.184.65.20\n",
            "Connecting to zenodo.org (zenodo.org)|188.184.65.20|:443... connected.\n",
            "HTTP request sent, awaiting response... 200 OK\n",
            "Length: 1731093704 (1.6G) [application/octet-stream]\n",
            "Saving to: ‘TAU-urban-acoustic-scenes-2019-development.audio.18.zip?download=1’\n",
            "\n",
            "TAU-urban-acoustic- 100%[===================>]   1.61G  11.8MB/s    in 2m 8s   \n",
            "\n",
            "2019-09-18 17:07:28 (12.9 MB/s) - ‘TAU-urban-acoustic-scenes-2019-development.audio.18.zip?download=1’ saved [1731093704/1731093704]\n",
            "\n",
            "--2019-09-18 17:08:29--  https://zenodo.org/record/2589280/files/TAU-urban-acoustic-scenes-2019-development.audio.19.zip?download=1\n",
            "Resolving zenodo.org (zenodo.org)... 188.184.65.20\n",
            "Connecting to zenodo.org (zenodo.org)|188.184.65.20|:443... connected.\n",
            "HTTP request sent, awaiting response... 200 OK\n",
            "Length: 1745153640 (1.6G) [application/octet-stream]\n",
            "Saving to: ‘TAU-urban-acoustic-scenes-2019-development.audio.19.zip?download=1’\n",
            "\n",
            "TAU-urban-acoustic- 100%[===================>]   1.62G  14.3MB/s    in 1m 53s  \n",
            "\n",
            "2019-09-18 17:10:23 (14.7 MB/s) - ‘TAU-urban-acoustic-scenes-2019-development.audio.19.zip?download=1’ saved [1745153640/1745153640]\n",
            "\n",
            "--2019-09-18 17:11:24--  https://zenodo.org/record/2589280/files/TAU-urban-acoustic-scenes-2019-development.audio.2.zip?download=1\n",
            "Resolving zenodo.org (zenodo.org)... 188.184.65.20\n",
            "Connecting to zenodo.org (zenodo.org)|188.184.65.20|:443... connected.\n",
            "HTTP request sent, awaiting response... 200 OK\n",
            "Length: 1666219450 (1.6G) [application/octet-stream]\n",
            "Saving to: ‘TAU-urban-acoustic-scenes-2019-development.audio.2.zip?download=1’\n",
            "\n",
            "TAU-urban-acoustic- 100%[===================>]   1.55G  16.0MB/s    in 1m 50s  \n",
            "\n",
            "2019-09-18 17:13:14 (14.5 MB/s) - ‘TAU-urban-acoustic-scenes-2019-development.audio.2.zip?download=1’ saved [1666219450/1666219450]\n",
            "\n",
            "--2019-09-18 17:14:15--  https://zenodo.org/record/2589280/files/TAU-urban-acoustic-scenes-2019-development.audio.20.zip?download=1\n",
            "Resolving zenodo.org (zenodo.org)... 188.184.65.20\n",
            "Connecting to zenodo.org (zenodo.org)|188.184.65.20|:443... connected.\n",
            "HTTP request sent, awaiting response... 200 OK\n",
            "Length: 1774038704 (1.7G) [application/octet-stream]\n",
            "Saving to: ‘TAU-urban-acoustic-scenes-2019-development.audio.20.zip?download=1’\n",
            "\n",
            "TAU-urban-acoustic- 100%[===================>]   1.65G  17.4MB/s    in 1m 52s  \n",
            "\n",
            "2019-09-18 17:16:09 (15.1 MB/s) - ‘TAU-urban-acoustic-scenes-2019-development.audio.20.zip?download=1’ saved [1774038704/1774038704]\n",
            "\n",
            "--2019-09-18 17:17:10--  https://zenodo.org/record/2589280/files/TAU-urban-acoustic-scenes-2019-development.audio.21.zip?download=1\n",
            "Resolving zenodo.org (zenodo.org)... 188.184.65.20\n",
            "Connecting to zenodo.org (zenodo.org)|188.184.65.20|:443... connected.\n",
            "HTTP request sent, awaiting response... 200 OK\n",
            "Length: 1333808800 (1.2G) [application/octet-stream]\n",
            "Saving to: ‘TAU-urban-acoustic-scenes-2019-development.audio.21.zip?download=1’\n",
            "\n",
            "TAU-urban-acoustic- 100%[===================>]   1.24G  16.7MB/s    in 80s     \n",
            "\n",
            "2019-09-18 17:18:32 (15.9 MB/s) - ‘TAU-urban-acoustic-scenes-2019-development.audio.21.zip?download=1’ saved [1333808800/1333808800]\n",
            "\n"
          ],
          "name": "stdout"
        }
      ]
    },
    {
      "cell_type": "code",
      "metadata": {
        "id": "XRHYGdK5RS8D",
        "colab_type": "code",
        "outputId": "e405a5c4-676e-4923-9c04-87175018b48f",
        "colab": {
          "base_uri": "https://localhost:8080/",
          "height": 785
        }
      },
      "source": [
        "!wget https://zenodo.org/record/2589280/files/TAU-urban-acoustic-scenes-2019-development.audio.3.zip?download=1\n",
        "!unzip -q TAU-urban-acoustic-scenes-2019-development.audio.3.zip?download=1\n",
        "\n",
        "!wget https://zenodo.org/record/2589280/files/TAU-urban-acoustic-scenes-2019-development.audio.4.zip?download=1\n",
        "!unzip -q TAU-urban-acoustic-scenes-2019-development.audio.4.zip?download=1\n",
        "\n",
        "!wget https://zenodo.org/record/2589280/files/TAU-urban-acoustic-scenes-2019-development.audio.5.zip?download=1\n",
        "!unzip -q TAU-urban-acoustic-scenes-2019-development.audio.5.zip?download=1\n",
        "\n",
        "!wget https://zenodo.org/record/2589280/files/TAU-urban-acoustic-scenes-2019-development.audio.6.zip?download=1\n",
        "!unzip -q TAU-urban-acoustic-scenes-2019-development.audio.6.zip?download=1"
      ],
      "execution_count": 0,
      "outputs": [
        {
          "output_type": "stream",
          "text": [
            "--2019-09-18 17:28:08--  https://zenodo.org/record/2589280/files/TAU-urban-acoustic-scenes-2019-development.audio.3.zip?download=1\n",
            "Resolving zenodo.org (zenodo.org)... 188.184.65.20\n",
            "Connecting to zenodo.org (zenodo.org)|188.184.65.20|:443... connected.\n",
            "HTTP request sent, awaiting response... 200 OK\n",
            "Length: 1817901591 (1.7G) [application/octet-stream]\n",
            "Saving to: ‘TAU-urban-acoustic-scenes-2019-development.audio.3.zip?download=1’\n",
            "\n",
            "TAU-urban-acoustic- 100%[===================>]   1.69G  12.2MB/s    in 1m 52s  \n",
            "\n",
            "2019-09-18 17:30:01 (15.5 MB/s) - ‘TAU-urban-acoustic-scenes-2019-development.audio.3.zip?download=1’ saved [1817901591/1817901591]\n",
            "\n",
            "--2019-09-18 17:31:08--  https://zenodo.org/record/2589280/files/TAU-urban-acoustic-scenes-2019-development.audio.4.zip?download=1\n",
            "Resolving zenodo.org (zenodo.org)... 188.184.65.20\n",
            "Connecting to zenodo.org (zenodo.org)|188.184.65.20|:443... connected.\n",
            "HTTP request sent, awaiting response... 200 OK\n",
            "Length: 1821710642 (1.7G) [application/octet-stream]\n",
            "Saving to: ‘TAU-urban-acoustic-scenes-2019-development.audio.4.zip?download=1’\n",
            "\n",
            "TAU-urban-acoustic- 100%[===================>]   1.70G  17.0MB/s    in 1m 49s  \n",
            "\n",
            "2019-09-18 17:32:58 (15.9 MB/s) - ‘TAU-urban-acoustic-scenes-2019-development.audio.4.zip?download=1’ saved [1821710642/1821710642]\n",
            "\n",
            "--2019-09-18 17:34:04--  https://zenodo.org/record/2589280/files/TAU-urban-acoustic-scenes-2019-development.audio.5.zip?download=1\n",
            "Resolving zenodo.org (zenodo.org)... 188.184.65.20\n",
            "Connecting to zenodo.org (zenodo.org)|188.184.65.20|:443... connected.\n",
            "HTTP request sent, awaiting response... 200 OK\n",
            "Length: 1803118466 (1.7G) [application/octet-stream]\n",
            "Saving to: ‘TAU-urban-acoustic-scenes-2019-development.audio.5.zip?download=1’\n",
            "\n",
            "TAU-urban-acoustic- 100%[===================>]   1.68G  16.5MB/s    in 1m 47s  \n",
            "\n",
            "2019-09-18 17:35:52 (16.1 MB/s) - ‘TAU-urban-acoustic-scenes-2019-development.audio.5.zip?download=1’ saved [1803118466/1803118466]\n",
            "\n",
            "--2019-09-18 17:36:57--  https://zenodo.org/record/2589280/files/TAU-urban-acoustic-scenes-2019-development.audio.6.zip?download=1\n",
            "Resolving zenodo.org (zenodo.org)... 188.184.65.20\n",
            "Connecting to zenodo.org (zenodo.org)|188.184.65.20|:443... connected.\n",
            "HTTP request sent, awaiting response... 200 OK\n",
            "Length: 1789566029 (1.7G) [application/octet-stream]\n",
            "Saving to: ‘TAU-urban-acoustic-scenes-2019-development.audio.6.zip?download=1’\n",
            "\n",
            "TAU-urban-acoustic- 100%[===================>]   1.67G  17.0MB/s    in 1m 49s  \n",
            "\n",
            "2019-09-18 17:38:47 (15.7 MB/s) - ‘TAU-urban-acoustic-scenes-2019-development.audio.6.zip?download=1’ saved [1789566029/1789566029]\n",
            "\n"
          ],
          "name": "stdout"
        }
      ]
    },
    {
      "cell_type": "code",
      "metadata": {
        "id": "oDB8QG27RkOl",
        "colab_type": "code",
        "colab": {}
      },
      "source": [
        "!wget https://zenodo.org/record/2589280/files/TAU-urban-acoustic-scenes-2019-development.audio.7.zip?download=1\n",
        "!unzip -q TAU-urban-acoustic-scenes-2019-development.audio.7.zip?download=1\n",
        "\n",
        "!wget https://zenodo.org/record/2589280/files/TAU-urban-acoustic-scenes-2019-development.audio.8.zip?download=1\n",
        "!unzip -q TAU-urban-acoustic-scenes-2019-development.audio.8.zip?download=1\n",
        "\n",
        "!wget https://zenodo.org/record/2589280/files/TAU-urban-acoustic-scenes-2019-development.audio.9.zip?download=1\n",
        "!unzip -q TAU-urban-acoustic-scenes-2019-development.audio.9.zip?download=1\n",
        "\n",
        "\n",
        "!wget https://zenodo.org/record/2589280/files/TAU-urban-acoustic-scenes-2019-development.doc.zip?download=1\n",
        "!unzip -q TAU-urban-acoustic-scenes-2019-development.doc.zip?download=1\n",
        "\n",
        "!wget https://zenodo.org/record/2589280/files/TAU-urban-acoustic-scenes-2019-development.meta.zip?download=1\n",
        "!unzip -q TAU-urban-acoustic-scenes-2019-development.meta.zip?download=1"
      ],
      "execution_count": 0,
      "outputs": []
    },
    {
      "cell_type": "code",
      "metadata": {
        "id": "UfBlgP8USWDp",
        "colab_type": "code",
        "colab": {}
      },
      "source": [
        "!wget https://zenodo.org/record/2589280/files/TAU-urban-acoustic-scenes-2019-development.doc.zip?download=1\n",
        "!unzip -q TAU-urban-acoustic-scenes-2019-development.doc.zip?download=1\n",
        "\n",
        "!wget https://zenodo.org/record/2589280/files/TAU-urban-acoustic-scenes-2019-development.meta.zip?download=1\n",
        "!unzip -q TAU-urban-acoustic-scenes-2019-development.meta.zip?download=1"
      ],
      "execution_count": 0,
      "outputs": []
    }
  ]
}