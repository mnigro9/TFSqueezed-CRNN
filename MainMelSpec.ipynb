{
  "nbformat": 4,
  "nbformat_minor": 0,
  "metadata": {
    "colab": {
      "name": "MainMelSpec.ipynb",
      "provenance": [],
      "collapsed_sections": []
    },
    "kernelspec": {
      "name": "python3",
      "display_name": "Python 3"
    }
  },
  "cells": [
    {
      "cell_type": "code",
      "metadata": {
        "id": "TahxVm3zY3gR",
        "colab_type": "code",
        "outputId": "f191dfc3-d7b6-4a2e-fb9a-03e436c77411",
        "colab": {
          "base_uri": "https://localhost:8080/",
          "height": 122
        }
      },
      "source": [
        "from google.colab import drive\n",
        "drive.mount('/content/drive')"
      ],
      "execution_count": 0,
      "outputs": [
        {
          "output_type": "stream",
          "text": [
            "Go to this URL in a browser: https://accounts.google.com/o/oauth2/auth?client_id=947318989803-6bn6qk8qdgf4n4g3pfee6491hc0brc4i.apps.googleusercontent.com&redirect_uri=urn%3Aietf%3Awg%3Aoauth%3A2.0%3Aoob&scope=email%20https%3A%2F%2Fwww.googleapis.com%2Fauth%2Fdocs.test%20https%3A%2F%2Fwww.googleapis.com%2Fauth%2Fdrive%20https%3A%2F%2Fwww.googleapis.com%2Fauth%2Fdrive.photos.readonly%20https%3A%2F%2Fwww.googleapis.com%2Fauth%2Fpeopleapi.readonly&response_type=code\n",
            "\n",
            "Enter your authorization code:\n",
            "··········\n",
            "Mounted at /content/drive\n"
          ],
          "name": "stdout"
        }
      ]
    },
    {
      "cell_type": "code",
      "metadata": {
        "id": "IUVpHevMaMEM",
        "colab_type": "code",
        "outputId": "3c4c26ba-8b97-4893-b6dc-ccf1c4aaf8c4",
        "colab": {
          "base_uri": "https://localhost:8080/",
          "height": 139
        }
      },
      "source": [
        "!pip install soundfile"
      ],
      "execution_count": 0,
      "outputs": [
        {
          "output_type": "stream",
          "text": [
            "Collecting soundfile\n",
            "  Downloading https://files.pythonhosted.org/packages/68/64/1191352221e2ec90db7492b4bf0c04fd9d2508de67b3f39cbf093cd6bd86/SoundFile-0.10.2-py2.py3-none-any.whl\n",
            "Requirement already satisfied: cffi>=1.0 in /usr/local/lib/python3.6/dist-packages (from soundfile) (1.12.3)\n",
            "Requirement already satisfied: pycparser in /usr/local/lib/python3.6/dist-packages (from cffi>=1.0->soundfile) (2.19)\n",
            "Installing collected packages: soundfile\n",
            "Successfully installed soundfile-0.10.2\n"
          ],
          "name": "stdout"
        }
      ]
    },
    {
      "cell_type": "code",
      "metadata": {
        "id": "m3VfQcMOaOeV",
        "colab_type": "code",
        "colab": {}
      },
      "source": [
        "import os\n",
        "import glob\n",
        "import numpy as np\n",
        "import pandas as pd\n",
        "import random\n",
        "import soundfile as sf\n",
        "import matplotlib.pyplot as plt\n",
        "import librosa\n",
        "\n",
        "import sys\n",
        "sys.path.append('/content/drive/My Drive/DCASE19 ASC/')\n",
        "import tfutil"
      ],
      "execution_count": 0,
      "outputs": []
    },
    {
      "cell_type": "code",
      "metadata": {
        "id": "faDGjrPw9_fH",
        "colab_type": "code",
        "colab": {}
      },
      "source": [
        "# Check if all binary files are created\n",
        "os.chdir('/content/drive/My Drive/DCASE19 ASC/')\n",
        "os.listdir()\n",
        "audiopath = './MelSpectrogram/PSDdB/'\n",
        "\n",
        "txt = audiopath + 'airport*'\n",
        "airportaddrs = glob.glob(txt)\n",
        "txt = audiopath + 'shopping_mall*'\n",
        "shopping_malladdrs = glob.glob(txt)\n",
        "txt = audiopath + 'metro_station*'\n",
        "metro_stationaddrs = glob.glob(txt)\n",
        "txt = audiopath + 'street_pedestrian*'\n",
        "street_pedestrianaddrs = glob.glob(txt)\n",
        "txt = audiopath + 'public_square*'\n",
        "public_squareaddrs = glob.glob(txt)\n",
        "txt = audiopath + 'street_traffic*'\n",
        "street_trafficaddrs = glob.glob(txt)\n",
        "txt = audiopath + 'tram*'\n",
        "tramaddrs = glob.glob(txt)\n",
        "txt = audiopath + 'bus*'\n",
        "busaddrs = glob.glob(txt)\n",
        "txt = audiopath + 'metro-*'\n",
        "metroaddrs = glob.glob(txt)\n",
        "txt = audiopath + 'park*'\n",
        "parkaddrs = glob.glob(txt)\n",
        "\n",
        "\n",
        "npyaddrs = [airportaddrs, shopping_malladdrs, metro_stationaddrs,\n",
        "         street_pedestrianaddrs, public_squareaddrs, street_trafficaddrs,\n",
        "         tramaddrs, busaddrs, metroaddrs, parkaddrs]\n",
        "\n",
        "npyaddrs = np.asarray(npyaddrs)\n",
        "print(npyaddrs.shape)\n"
      ],
      "execution_count": 0,
      "outputs": []
    },
    {
      "cell_type": "code",
      "metadata": {
        "id": "YiimYfp0aS8l",
        "colab_type": "code",
        "colab": {}
      },
      "source": [
        "# Reading all the available filename for each recording type and display the number of recordings\n",
        "# IMPORTANT: You might need to execute this section again, if the next part does not work correctly.\n",
        "os.chdir('/content/drive/My Drive/DCASE19 ASC/')\n",
        "os.listdir()\n",
        "audiopath = './TAU-urban-acoustic-scenes-2019-development/audio/'\n",
        "\n",
        "txt = audiopath + 'airport*.wav'\n",
        "airportaddrs = glob.glob(txt)\n",
        "txt = audiopath + 'shopping_mall*.wav'\n",
        "shopping_malladdrs = glob.glob(txt)\n",
        "txt = audiopath + 'metro_station*.wav'\n",
        "metro_stationaddrs = glob.glob(txt)\n",
        "txt = audiopath + 'street_pedestrian*.wav'\n",
        "street_pedestrianaddrs = glob.glob(txt)\n",
        "txt = audiopath + 'public_square*.wav'\n",
        "public_squareaddrs = glob.glob(txt)\n",
        "txt = audiopath + 'street_traffic*.wav'\n",
        "street_trafficaddrs = glob.glob(txt)\n",
        "txt = audiopath + 'tram*.wav'\n",
        "tramaddrs = glob.glob(txt)\n",
        "txt = audiopath + 'bus*.wav'\n",
        "busaddrs = glob.glob(txt)\n",
        "txt = audiopath + 'metro-*.wav'\n",
        "metroaddrs = glob.glob(txt)\n",
        "txt = audiopath + 'park*.wav'\n",
        "parkaddrs = glob.glob(txt)\n",
        "\n",
        "\n",
        "addrs = [airportaddrs, shopping_malladdrs, metro_stationaddrs,\n",
        "         street_pedestrianaddrs, public_squareaddrs, street_trafficaddrs,\n",
        "         tramaddrs, busaddrs, metroaddrs, parkaddrs]\n",
        "\n",
        "addrs = np.asarray(addrs)"
      ],
      "execution_count": 0,
      "outputs": []
    },
    {
      "cell_type": "code",
      "metadata": {
        "id": "F4I-_xzKaTmV",
        "colab_type": "code",
        "outputId": "abcd1d83-8185-48e4-8d0f-68bef59f60aa",
        "colab": {
          "base_uri": "https://localhost:8080/",
          "height": 68
        }
      },
      "source": [
        "print(addrs.shape)\n",
        "print(addrs[0][100])\n",
        "print(np.size(addrs[0]))"
      ],
      "execution_count": 0,
      "outputs": [
        {
          "output_type": "stream",
          "text": [
            "(10, 1440)\n",
            "./MelSpectrogram/PSDdB/airport-stockholm-207-6309-a.npy\n",
            "1440\n"
          ],
          "name": "stdout"
        }
      ]
    },
    {
      "cell_type": "code",
      "metadata": {
        "id": "matGGvkoaWGs",
        "colab_type": "code",
        "colab": {}
      },
      "source": [
        "# Helper function to plot the Power Spectral Density\n",
        "def plot_images(psd, addr, plotrows, figSizeHeight=10):\n",
        "  \n",
        "  #nrow, ncol = psd[0].shape\n",
        "  #plotrows = int(np.floor(nrow/2))\n",
        "\n",
        "  figSizeWidth = 20\n",
        "  #figSizeHeight = 20\n",
        "\n",
        "  # Create figure with sub-plots.\n",
        "  fig, axes = plt.subplots(5, 4)\n",
        "  fig.set_size_inches(figSizeWidth, figSizeHeight)\n",
        "\n",
        "  # Adjust spacing between subplots.\n",
        "  hspace = 1\n",
        "  fig.subplots_adjust(hspace=hspace, wspace=0.3)\n",
        "\n",
        "\n",
        "  for i, ax in enumerate(axes.flat):\n",
        "      # There may be less than 10 images, ensure it doesn't crash.\n",
        "      if i < len(addr):\n",
        "          # Plot image.\n",
        "          image = psd[i]\n",
        "          #maxpsd = np.max(image[0][0:nrow])   # The display is set to range [0:maxpsd], where maxpsd=3.1813424. Anything larger than that will have full pixel value of 255\n",
        "          ax.imshow(image[0:plotrows],\n",
        "                    cmap='gray_r', \n",
        "                    vmin=0, \n",
        "                    vmax=255, \n",
        "                    origin='lower')\n",
        "\n",
        "          # Show true and predicted classes.\n",
        "          xlabel = os.path.basename(addr[i])\n",
        "\n",
        "          # Show the classes as the label on the x-axis.\n",
        "          ax.set_xlabel(xlabel)\n",
        "\n",
        "      # Remove ticks from the plot.\n",
        "      ax.set_xticks([])\n",
        "      ax.set_yticks([])\n",
        "\n",
        "  # Ensure the plot is shown correctly with multiple plots\n",
        "  # in a single Notebook cell.\n",
        "  plt.show()\n",
        "\n",
        "  np.size(image)"
      ],
      "execution_count": 0,
      "outputs": []
    },
    {
      "cell_type": "code",
      "metadata": {
        "id": "mzX80pYpaX0r",
        "colab_type": "code",
        "colab": {}
      },
      "source": [
        "sound,fs = sf.read(addrs[0,1])\n",
        "\n",
        "# Creating Mel filters\n",
        "frange = fs/2   #Frequency range\n",
        "n_mels = 128     #Number of mel filters\n",
        "\n",
        "\n",
        "# Define Mel Spec parameters\n",
        "framesize = 0.04 #Setting frame size to 2 msec\n",
        "n_fft=int(np.floor(framesize*fs))\n",
        "overlap = 2\n",
        "hop_length = int(n_fft/overlap)\n",
        "win_length = n_fft\n",
        "center = True\n",
        "stft_config = dict(n_fft=n_fft, \n",
        "                   hop_length=hop_length, \n",
        "                   win_length=n_fft, \n",
        "                   window='hamming')\n",
        "lenSound = int(np.floor(len(sound)/fs)*fs)\n",
        "fDim = int(np.floor(n_fft/2) + 1)\n",
        "tDim = int(lenSound/(fDim-1))+ 1\n",
        "\n",
        "# Define the MFCC filter bank\n",
        "melfb = np.asarray(librosa.filters.mel(frange, n_fft, n_mels))\n",
        "\n",
        "\n",
        "# Creating Mel Spectrogram\n",
        "def createMelSpec(sound, melfb):\n",
        "  STFT = librosa.stft(sound, **stft_config)  \n",
        "  \n",
        "  mag = np.asarray(np.abs(STFT))\n",
        "  tmppsd = np.multiply(mag,mag)\n",
        "  \n",
        "  melspec = melfb.dot(tmppsd)\n",
        "  \n",
        "  return melspec\n"
      ],
      "execution_count": 0,
      "outputs": []
    },
    {
      "cell_type": "code",
      "metadata": {
        "id": "cNoA8L8LaZ3c",
        "colab_type": "code",
        "outputId": "20767c7e-a611-44ca-8318-1aece6cba9be",
        "colab": {
          "base_uri": "https://localhost:8080/",
          "height": 1000
        }
      },
      "source": [
        "melspec = [[] for x in range(30)]\n",
        "recordtype = 0\n",
        "\n",
        "for i in range(1):\n",
        "  for j in range(30):\n",
        "    addr = addrs[recordtype][j]\n",
        "    audio, fs = sf.read(addr)\n",
        "    sound1 = audio[:,0]\n",
        "    melspec[j] = createMelSpec(sound1, melfb)\n",
        "\n",
        "melspec = np.array(melspec)\n",
        "nrow,ncol = melspec[0].shape\n",
        "print(nrow,ncol)\n",
        "plot_images(melspec[0:20],addrs[recordtype][0:20], nrow, 20)\n",
        "\n",
        "\n"
      ],
      "execution_count": 0,
      "outputs": [
        {
          "output_type": "stream",
          "text": [
            "128 501\n"
          ],
          "name": "stdout"
        },
        {
          "output_type": "display_data",
          "data": {
            "image/png": "[encoded data removed]",
            "text/plain": [
              "<Figure size 1440x1440 with 20 Axes>"
            ]
          },
          "metadata": {
            "tags": []
          }
        }
      ]
    },
    {
      "cell_type": "code",
      "metadata": {
        "id": "_XAyJ6oodcP4",
        "colab_type": "code",
        "colab": {}
      },
      "source": [
        "del(melspec)"
      ],
      "execution_count": 0,
      "outputs": []
    },
    {
      "cell_type": "code",
      "metadata": {
        "id": "pwhP05SJadsc",
        "colab_type": "code",
        "colab": {}
      },
      "source": [
        "# create and save the squeezed PSD with double emphasis into binary file\n",
        "OutPathNormalPSD = '/content/drive/My Drive/DCASE19 ASC/MelSpectrogram/NormalPSD/'\n",
        "OutPathPSDdB = '/content/drive/My Drive/DCASE19 ASC/MelSpectrogram/PSDdB/'\n",
        "\n",
        "\n",
        "recordtype = ['airport','shopping_mall','metro_station','street_pedestrian',\n",
        "             'public_square', 'street_traffic', 'tram', 'bus', 'metro', 'park']\n",
        "\n",
        "\n",
        "for i in range(3):\n",
        "  numfiles = np.size(addrs[i+7])\n",
        "  print('\\n \\n')\n",
        "  print('processing ', recordtype[i+7])\n",
        "  for j in range(numfiles):\n",
        "    addr = addrs[i+7][j]\n",
        "    \n",
        "    # Processing signal\n",
        "    audio, fs = sf.read(addr)\n",
        "    sound1 = audio[:,0]\n",
        "    \n",
        "    melspec = createMelSpec(sound1, melfb)\n",
        "    melspec = np.array(melspec)\n",
        "    \n",
        "    melspecdB = 10*np.log10(melspec)\n",
        "\n",
        "    \n",
        "    # Saving data to file\n",
        "    filename, _ = os.path.splitext(os.path.basename(addr))\n",
        "    \n",
        "    filenameNormal = OutPathNormalPSD+filename+'.npy'\n",
        "    print('Filename: ',i+7, ',  ',j, ' ',  filenameNormal)\n",
        "    #freqSqueezedPSD.to_csv(filename, sep=',', header=False, index=False) # Not using pd.DataFrame\n",
        "    np.save(filenameNormal, melspec)\n",
        "    \n",
        "    filenamedB = OutPathPSDdB+filename+'.npy'\n",
        "    print('Filename: ',i+7, ',  ',j, ' ',  filenamedB)\n",
        "    #freqSqueezedPSD.to_csv(filename, sep=',', header=False, index=False) # Not using pd.DataFrame\n",
        "    np.save(filenamedB, melspecdB)\n",
        "    \n",
        "    \n",
        "    \n",
        "\n"
      ],
      "execution_count": 0,
      "outputs": []
    }
  ]
}